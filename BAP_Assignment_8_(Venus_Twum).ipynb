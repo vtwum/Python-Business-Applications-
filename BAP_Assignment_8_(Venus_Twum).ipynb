{
  "nbformat": 4,
  "nbformat_minor": 0,
  "metadata": {
    "kernelspec": {
      "display_name": "Python 3",
      "language": "python",
      "name": "python3"
    },
    "language_info": {
      "codemirror_mode": {
        "name": "ipython",
        "version": 3
      },
      "file_extension": ".py",
      "mimetype": "text/x-python",
      "name": "python",
      "nbconvert_exporter": "python",
      "pygments_lexer": "ipython3",
      "version": "3.7.1"
    },
    "colab": {
      "name": "BAP Assignment 8 (Venus Twum).ipynb",
      "provenance": []
    }
  },
  "cells": [
    {
      "cell_type": "markdown",
      "metadata": {
        "id": "mitt1mcQQXsz",
        "colab_type": "text"
      },
      "source": [
        "## Business Applications of Python\n",
        "### Assignment VIII: Data Analysis and Visualization\n",
        "Please complete these exercises to the best of your abilities. Please include code to invoke each of your programs to demonstrate the functionality. Write comments throughout your code to explain steps. If you run into a persistent error, please demonstrate your efforts to resolve it; search the web for the error, see if you can get closer to figuring it out. Document what you tried in order to fix the problem."
      ]
    },
    {
      "cell_type": "markdown",
      "metadata": {
        "id": "X4pL4PE5QXs0",
        "colab_type": "text"
      },
      "source": [
        "#### Problem 1:  Importing data and creating a data frame  \n",
        "#### Use the gapminder data for problems 1-5\n",
        "a.  Import data from a url: data_url = 'http://bit.ly/2cLzoxH'  \n",
        "\n",
        "b.  Create a pandas data frame and examine the first few lines of the data set  \n",
        "\n",
        "c.  Sort the data frame by decreasing life expectancy  "
      ]
    },
    {
      "cell_type": "code",
      "metadata": {
        "id": "3wvCyjmHQXs1",
        "colab_type": "code",
        "colab": {
          "base_uri": "https://localhost:8080/",
          "height": 306
        },
        "outputId": "eb45a339-c037-44bb-bc3a-b45cd94855b8"
      },
      "source": [
        "## Import necessary libraries\n",
        "import pandas as pd\n",
        "\n",
        "# a.  Import data from\n",
        "data_url = 'http://bit.ly/2cLzoxH' \n",
        "\n",
        "\n",
        "# b.  Create a pandas data frame and examine the first few lines of the data set  \n",
        "gm= pd.read_csv(data_url)\n",
        "print(gm.head())  #prints first five lines \n",
        "\n",
        "# c.  Sort the data frame by decreasing life expectancy  \n",
        "gm_lifeExp_sort= gm.sort_values(['lifeExp'], ascending=False)\n",
        "gm_lifeExp_sort.head()"
      ],
      "execution_count": 2,
      "outputs": [
        {
          "output_type": "stream",
          "text": [
            "       country  year         pop continent  lifeExp   gdpPercap\n",
            "0  Afghanistan  1952   8425333.0      Asia   28.801  779.445314\n",
            "1  Afghanistan  1957   9240934.0      Asia   30.332  820.853030\n",
            "2  Afghanistan  1962  10267083.0      Asia   31.997  853.100710\n",
            "3  Afghanistan  1967  11537966.0      Asia   34.020  836.197138\n",
            "4  Afghanistan  1972  13079460.0      Asia   36.088  739.981106\n"
          ],
          "name": "stdout"
        },
        {
          "output_type": "execute_result",
          "data": {
            "text/html": [
              "<div>\n",
              "<style scoped>\n",
              "    .dataframe tbody tr th:only-of-type {\n",
              "        vertical-align: middle;\n",
              "    }\n",
              "\n",
              "    .dataframe tbody tr th {\n",
              "        vertical-align: top;\n",
              "    }\n",
              "\n",
              "    .dataframe thead th {\n",
              "        text-align: right;\n",
              "    }\n",
              "</style>\n",
              "<table border=\"1\" class=\"dataframe\">\n",
              "  <thead>\n",
              "    <tr style=\"text-align: right;\">\n",
              "      <th></th>\n",
              "      <th>country</th>\n",
              "      <th>year</th>\n",
              "      <th>pop</th>\n",
              "      <th>continent</th>\n",
              "      <th>lifeExp</th>\n",
              "      <th>gdpPercap</th>\n",
              "    </tr>\n",
              "  </thead>\n",
              "  <tbody>\n",
              "    <tr>\n",
              "      <th>803</th>\n",
              "      <td>Japan</td>\n",
              "      <td>2007</td>\n",
              "      <td>127467972.0</td>\n",
              "      <td>Asia</td>\n",
              "      <td>82.603</td>\n",
              "      <td>31656.06806</td>\n",
              "    </tr>\n",
              "    <tr>\n",
              "      <th>671</th>\n",
              "      <td>Hong Kong China</td>\n",
              "      <td>2007</td>\n",
              "      <td>6980412.0</td>\n",
              "      <td>Asia</td>\n",
              "      <td>82.208</td>\n",
              "      <td>39724.97867</td>\n",
              "    </tr>\n",
              "    <tr>\n",
              "      <th>802</th>\n",
              "      <td>Japan</td>\n",
              "      <td>2002</td>\n",
              "      <td>127065841.0</td>\n",
              "      <td>Asia</td>\n",
              "      <td>82.000</td>\n",
              "      <td>28604.59190</td>\n",
              "    </tr>\n",
              "    <tr>\n",
              "      <th>695</th>\n",
              "      <td>Iceland</td>\n",
              "      <td>2007</td>\n",
              "      <td>301931.0</td>\n",
              "      <td>Europe</td>\n",
              "      <td>81.757</td>\n",
              "      <td>36180.78919</td>\n",
              "    </tr>\n",
              "    <tr>\n",
              "      <th>1487</th>\n",
              "      <td>Switzerland</td>\n",
              "      <td>2007</td>\n",
              "      <td>7554661.0</td>\n",
              "      <td>Europe</td>\n",
              "      <td>81.701</td>\n",
              "      <td>37506.41907</td>\n",
              "    </tr>\n",
              "  </tbody>\n",
              "</table>\n",
              "</div>"
            ],
            "text/plain": [
              "              country  year          pop continent  lifeExp    gdpPercap\n",
              "803             Japan  2007  127467972.0      Asia   82.603  31656.06806\n",
              "671   Hong Kong China  2007    6980412.0      Asia   82.208  39724.97867\n",
              "802             Japan  2002  127065841.0      Asia   82.000  28604.59190\n",
              "695           Iceland  2007     301931.0    Europe   81.757  36180.78919\n",
              "1487      Switzerland  2007    7554661.0    Europe   81.701  37506.41907"
            ]
          },
          "metadata": {
            "tags": []
          },
          "execution_count": 2
        }
      ]
    },
    {
      "cell_type": "markdown",
      "metadata": {
        "id": "YKYtPPAIQXs6",
        "colab_type": "text"
      },
      "source": [
        "#### Problem 2:  Filtering, Summarizing, and Visualizing Distributions\n",
        "a.  Select data from the year 2002\n",
        "\n",
        "b.  Find a statistical summary of the data from 2002\n",
        "\n",
        "c.  Create one histogram for GDP and one for Life Expectancy\n",
        "\n",
        "d.  Create parallel boxplots to show the distributions of GDP by continent\n"
      ]
    },
    {
      "cell_type": "code",
      "metadata": {
        "id": "eOsW99rwQXs7",
        "colab_type": "code",
        "colab": {
          "base_uri": "https://localhost:8080/",
          "height": 945
        },
        "outputId": "a354b6bb-af84-4737-9e58-765a98be0231"
      },
      "source": [
        "## Import necessary libraries\n",
        "#gap minder doesn't need to be imported b/c the url was loaded in last block\n",
        "import math #for stat summary\n",
        "import seaborn as sns #for boxplot \n",
        "import matplotlib.pyplot as plt #for histogram \n",
        "%matplotlib inline \n",
        "# a.  Select data from the year 2002\n",
        "gm_02 = gm[gm['year']==2002]\n",
        "\n",
        "# b.  Find a statistical summary of the data from 2002\n",
        "print(gm_02.describe())\n",
        "\n",
        "# c.  Create one histogram for GDP and one for Life Expectancy\n",
        "lifeExp_hist=plt.hist(gm_02['lifeExp']) #creates histogram for 2002 life expectancy \n",
        "plt.show(lifeExp_hist) \n",
        "\n",
        "\n",
        "gdp_hist= plt.hist(gm_02['gdpPercap'])\n",
        "plt.show(gdp_hist)  #displays the histogram\n",
        "\n",
        "# d.  Create parallel boxplots to show the distributions of GDP within each continent\n",
        "a= gm_02['gdpPercap']\n",
        "b= gm_02['continent']\n",
        "\n",
        "sns.boxplot(a,b, data=gm_02, palette='bright')  "
      ],
      "execution_count": 14,
      "outputs": [
        {
          "output_type": "stream",
          "text": [
            "         year           pop     lifeExp     gdpPercap\n",
            "count   142.0  1.420000e+02  142.000000    142.000000\n",
            "mean   2002.0  4.145759e+07   65.694923   9917.848365\n",
            "std       0.0  1.408483e+08   12.279823  11154.114865\n",
            "min    2002.0  1.703720e+05   39.193000    241.165877\n",
            "25%    2002.0  4.173506e+06   55.522250   1409.567264\n",
            "50%    2002.0  1.037292e+07   70.825500   5319.804524\n",
            "75%    2002.0  2.654556e+07   75.459250  13359.512257\n",
            "max    2002.0  1.280400e+09   82.000000  44683.975250\n"
          ],
          "name": "stdout"
        },
        {
          "output_type": "display_data",
          "data": {
            "image/png": "[encoded data removed]",
            "text/plain": [
              "<Figure size 432x288 with 1 Axes>"
            ]
          },
          "metadata": {
            "tags": []
          }
        },
        {
          "output_type": "display_data",
          "data": {
            "image/png": "[encoded data removed]",
            "text/plain": [
              "<Figure size 432x288 with 1 Axes>"
            ]
          },
          "metadata": {
            "tags": []
          }
        },
        {
          "output_type": "execute_result",
          "data": {
            "text/plain": [
              "<matplotlib.axes._subplots.AxesSubplot at 0x7f20ef7fb080>"
            ]
          },
          "metadata": {
            "tags": []
          },
          "execution_count": 14
        },
        {
          "output_type": "display_data",
          "data": {
            "image/png": "[encoded data removed]",
            "text/plain": [
              "<Figure size 432x288 with 1 Axes>"
            ]
          },
          "metadata": {
            "tags": []
          }
        }
      ]
    },
    {
      "cell_type": "markdown",
      "metadata": {
        "id": "JRkucNBzQXtA",
        "colab_type": "text"
      },
      "source": [
        "#### Problem 3:  Filtering by Country and Plotting Over Time\n",
        "a.  Select data for all years, but only for the following countries US, China, England, Brazil, and India. Examine the first few rows of the data frame. \n",
        "\n",
        "b.  Create a plot of GDP over time for these five countries (include labels).\n"
      ]
    },
    {
      "cell_type": "code",
      "metadata": {
        "id": "McJeQAnvQXtA",
        "colab_type": "code",
        "colab": {
          "base_uri": "https://localhost:8080/",
          "height": 279
        },
        "outputId": "ffecd489-f3b7-467d-9271-577cb39bf465"
      },
      "source": [
        "## Import necessary libraries\n",
        "#import pandas as pd \n",
        "#import matplotlib.pyplot as plt \n",
        "#%matplotlib inline \n",
        "# a.  Select data for all years, but only for the following countries US, China, England, Brazil, and India. Examine the first few rows of the data frame. \n",
        "us= gm[gm['country']=='United States']\n",
        "chn= gm[gm['country']=='China']\n",
        "eng= gm[gm['country']=='United Kingdom']\n",
        "br= gm[gm['country']=='Brazil']\n",
        "ind= gm[gm['country']=='India']\n",
        "# b.  Create a plot of GDP over time for these five countries (include labels).\n",
        "plt.plot(us['year'], us['gdpPercap'], label='United States')\n",
        "plt.plot(chn['year'], chn['gdpPercap'], label='China')\n",
        "plt.plot(eng['year'], eng['gdpPercap'], label='UK/England')\n",
        "plt.plot(br['year'], br['gdpPercap'], label='Brazil')\n",
        "plt.plot(ind['year'], ind['gdpPercap'], label='India')\n",
        "\n",
        "#create a legend(best indicates the most efficient location with minimial overlap)\n",
        "#labels already indicated above in plt.plot arguments\n",
        "plt.legend(loc='best')\n",
        "\n",
        "#axis labels\n",
        "plt.xlabel('Year')\n",
        "plt.ylabel('GDP Per Capita (USD)')\n",
        "plt.show()"
      ],
      "execution_count": 13,
      "outputs": [
        {
          "output_type": "display_data",
          "data": {
            "image/png": "[encoded data removed]",
            "text/plain": [
              "<Figure size 432x288 with 1 Axes>"
            ]
          },
          "metadata": {
            "tags": []
          }
        }
      ]
    },
    {
      "cell_type": "markdown",
      "metadata": {
        "id": "dMTr9K9VQXtE",
        "colab_type": "text"
      },
      "source": [
        "#### Problem 4:   Applying a Function\n",
        "Use the apply method to determine what percent of countries are below the mean life expectancy.  Customize the output so that it is clear and informative. "
      ]
    },
    {
      "cell_type": "code",
      "metadata": {
        "id": "wy-7P8eKQXtE",
        "colab_type": "code",
        "colab": {
          "base_uri": "https://localhost:8080/",
          "height": 119
        },
        "outputId": "5e4efc3b-29eb-4036-af00-3db5417aa262"
      },
      "source": [
        "## Import necessary libraries\n",
        "import numpy as np \n",
        "#import pandas as pd\n",
        "\n",
        "# Code:\n",
        "avgLifeExp = np.mean(gm_02['lifeExp']) #find the average life expectancy \n",
        "\n",
        "#create a function to determine the countries below the average \n",
        "def belowAvg(num): \n",
        "  if num < avgLifeExp:\n",
        "    return 1 \n",
        "  else:\n",
        "    return 0\n",
        "\n",
        "#apply the function and check first lines \n",
        "lowLifeExp= gm_02['lifeExp'].apply(belowAvg)\n",
        "# lowLifeExp.head()\n",
        "\n",
        "#create new column to hold the values returned \n",
        "gm_02['BelowAvg']=lowLifeExp\n",
        "# gm_02['BelowAvg'].head()\n",
        "\n",
        "#find the percentage of countries below the avg\n",
        "per= gm_02['BelowAvg'].sum()/gm_02['BelowAvg'].count()\n",
        "print(round(per, 2) *100, '%')"
      ],
      "execution_count": 24,
      "outputs": [
        {
          "output_type": "stream",
          "text": [
            "40.0 %\n"
          ],
          "name": "stdout"
        },
        {
          "output_type": "stream",
          "text": [
            "/usr/local/lib/python3.6/dist-packages/ipykernel_launcher.py:19: SettingWithCopyWarning: \n",
            "A value is trying to be set on a copy of a slice from a DataFrame.\n",
            "Try using .loc[row_indexer,col_indexer] = value instead\n",
            "\n",
            "See the caveats in the documentation: https://pandas.pydata.org/pandas-docs/stable/user_guide/indexing.html#returning-a-view-versus-a-copy\n"
          ],
          "name": "stderr"
        }
      ]
    },
    {
      "cell_type": "markdown",
      "metadata": {
        "id": "9Som_zj7QXtJ",
        "colab_type": "text"
      },
      "source": [
        "#### Problem 5:  Pivot Table\n",
        "Create a pivot table that summarizes the maximum gdp by year (rows) and continent (columns)\n"
      ]
    },
    {
      "cell_type": "code",
      "metadata": {
        "id": "1xSNIL5jQXtJ",
        "colab_type": "code",
        "colab": {
          "base_uri": "https://localhost:8080/",
          "height": 452
        },
        "outputId": "3dfd8989-d774-4712-b63b-b316972d5f6a"
      },
      "source": [
        "## Import necessary libraries\n",
        "import pandas as pd \n",
        "# Code: \n",
        "df= gm[['gdpPercap', 'continent', 'year']]\n",
        "pd.pivot_table(df, values='gdpPercap', \n",
        "               index='year', \n",
        "               columns='continent', \n",
        "               aggfunc='max')"
      ],
      "execution_count": 25,
      "outputs": [
        {
          "output_type": "execute_result",
          "data": {
            "text/html": [
              "<div>\n",
              "<style scoped>\n",
              "    .dataframe tbody tr th:only-of-type {\n",
              "        vertical-align: middle;\n",
              "    }\n",
              "\n",
              "    .dataframe tbody tr th {\n",
              "        vertical-align: top;\n",
              "    }\n",
              "\n",
              "    .dataframe thead th {\n",
              "        text-align: right;\n",
              "    }\n",
              "</style>\n",
              "<table border=\"1\" class=\"dataframe\">\n",
              "  <thead>\n",
              "    <tr style=\"text-align: right;\">\n",
              "      <th>continent</th>\n",
              "      <th>Africa</th>\n",
              "      <th>Americas</th>\n",
              "      <th>Asia</th>\n",
              "      <th>Europe</th>\n",
              "      <th>Oceania</th>\n",
              "    </tr>\n",
              "    <tr>\n",
              "      <th>year</th>\n",
              "      <th></th>\n",
              "      <th></th>\n",
              "      <th></th>\n",
              "      <th></th>\n",
              "      <th></th>\n",
              "    </tr>\n",
              "  </thead>\n",
              "  <tbody>\n",
              "    <tr>\n",
              "      <th>1952</th>\n",
              "      <td>4725.295531</td>\n",
              "      <td>13990.48208</td>\n",
              "      <td>108382.35290</td>\n",
              "      <td>14734.23275</td>\n",
              "      <td>10556.57566</td>\n",
              "    </tr>\n",
              "    <tr>\n",
              "      <th>1957</th>\n",
              "      <td>5487.104219</td>\n",
              "      <td>14847.12712</td>\n",
              "      <td>113523.13290</td>\n",
              "      <td>17909.48973</td>\n",
              "      <td>12247.39532</td>\n",
              "    </tr>\n",
              "    <tr>\n",
              "      <th>1962</th>\n",
              "      <td>6757.030816</td>\n",
              "      <td>16173.14586</td>\n",
              "      <td>95458.11176</td>\n",
              "      <td>20431.09270</td>\n",
              "      <td>13175.67800</td>\n",
              "    </tr>\n",
              "    <tr>\n",
              "      <th>1967</th>\n",
              "      <td>18772.751690</td>\n",
              "      <td>19530.36557</td>\n",
              "      <td>80894.88326</td>\n",
              "      <td>22966.14432</td>\n",
              "      <td>14526.12465</td>\n",
              "    </tr>\n",
              "    <tr>\n",
              "      <th>1972</th>\n",
              "      <td>21011.497210</td>\n",
              "      <td>21806.03594</td>\n",
              "      <td>109347.86700</td>\n",
              "      <td>27195.11304</td>\n",
              "      <td>16788.62948</td>\n",
              "    </tr>\n",
              "    <tr>\n",
              "      <th>1977</th>\n",
              "      <td>21951.211760</td>\n",
              "      <td>24072.63213</td>\n",
              "      <td>59265.47714</td>\n",
              "      <td>26982.29052</td>\n",
              "      <td>18334.19751</td>\n",
              "    </tr>\n",
              "    <tr>\n",
              "      <th>1982</th>\n",
              "      <td>17364.275380</td>\n",
              "      <td>25009.55914</td>\n",
              "      <td>33693.17525</td>\n",
              "      <td>28397.71512</td>\n",
              "      <td>19477.00928</td>\n",
              "    </tr>\n",
              "    <tr>\n",
              "      <th>1987</th>\n",
              "      <td>11864.408440</td>\n",
              "      <td>29884.35041</td>\n",
              "      <td>28118.42998</td>\n",
              "      <td>31540.97480</td>\n",
              "      <td>21888.88903</td>\n",
              "    </tr>\n",
              "    <tr>\n",
              "      <th>1992</th>\n",
              "      <td>13522.157520</td>\n",
              "      <td>32003.93224</td>\n",
              "      <td>34932.91959</td>\n",
              "      <td>33965.66115</td>\n",
              "      <td>23424.76683</td>\n",
              "    </tr>\n",
              "    <tr>\n",
              "      <th>1997</th>\n",
              "      <td>14722.841880</td>\n",
              "      <td>35767.43303</td>\n",
              "      <td>40300.61996</td>\n",
              "      <td>41283.16433</td>\n",
              "      <td>26997.93657</td>\n",
              "    </tr>\n",
              "    <tr>\n",
              "      <th>2002</th>\n",
              "      <td>12521.713920</td>\n",
              "      <td>39097.09955</td>\n",
              "      <td>36023.10540</td>\n",
              "      <td>44683.97525</td>\n",
              "      <td>30687.75473</td>\n",
              "    </tr>\n",
              "    <tr>\n",
              "      <th>2007</th>\n",
              "      <td>13206.484520</td>\n",
              "      <td>42951.65309</td>\n",
              "      <td>47306.98978</td>\n",
              "      <td>49357.19017</td>\n",
              "      <td>34435.36744</td>\n",
              "    </tr>\n",
              "  </tbody>\n",
              "</table>\n",
              "</div>"
            ],
            "text/plain": [
              "continent        Africa     Americas          Asia       Europe      Oceania\n",
              "year                                                                        \n",
              "1952        4725.295531  13990.48208  108382.35290  14734.23275  10556.57566\n",
              "1957        5487.104219  14847.12712  113523.13290  17909.48973  12247.39532\n",
              "1962        6757.030816  16173.14586   95458.11176  20431.09270  13175.67800\n",
              "1967       18772.751690  19530.36557   80894.88326  22966.14432  14526.12465\n",
              "1972       21011.497210  21806.03594  109347.86700  27195.11304  16788.62948\n",
              "1977       21951.211760  24072.63213   59265.47714  26982.29052  18334.19751\n",
              "1982       17364.275380  25009.55914   33693.17525  28397.71512  19477.00928\n",
              "1987       11864.408440  29884.35041   28118.42998  31540.97480  21888.88903\n",
              "1992       13522.157520  32003.93224   34932.91959  33965.66115  23424.76683\n",
              "1997       14722.841880  35767.43303   40300.61996  41283.16433  26997.93657\n",
              "2002       12521.713920  39097.09955   36023.10540  44683.97525  30687.75473\n",
              "2007       13206.484520  42951.65309   47306.98978  49357.19017  34435.36744"
            ]
          },
          "metadata": {
            "tags": []
          },
          "execution_count": 25
        }
      ]
    },
    {
      "cell_type": "markdown",
      "metadata": {
        "id": "gT-GVtiBQXtP",
        "colab_type": "text"
      },
      "source": [
        "#### Problem 6 (Optional Problem)\n",
        "a. Use a remote data source from datareader to import apple and microsoft stock data for the Month of January of 2019\n",
        "\n",
        "b.  Generate and interpret statistical summaries of the data\n",
        "\n",
        "c.  Calculate the percentage of days on which each stock closed higher than it opened. \n",
        "\n",
        "d.  Create a plot of the closing prices of apple and microsoft over time for all of January (include labels)\n",
        "\n",
        "e.  Write a 3-4 sentence summary of your results.  \n"
      ]
    },
    {
      "cell_type": "code",
      "metadata": {
        "id": "dJ_Jrj0cQXtQ",
        "colab_type": "code",
        "colab": {
          "base_uri": "https://localhost:8080/",
          "height": 329
        },
        "outputId": "5956fc76-0de5-4c42-f9bd-1eac8abd4290"
      },
      "source": [
        "## Import necessary libraries \n",
        "from pandas_datareader import data\n",
        "from datetime import datetime \n",
        "import numpy as np\n",
        "import math \n",
        "# a. Use a remote data source from datareader to import apple and microsoft stock data for the Month of January of 2019\n",
        "symbols= ['AAPL', 'MSFT']\n",
        "data_source= 'yahoo'\n",
        "start= datetime(2019, 1, 1)\n",
        "end= datetime(2019, 1, 30)\n",
        "\n",
        "df=data.DataReader(symbols,data_source, start, end)\n",
        "df.head()\n",
        "# b. Generate and interpret statistical summaries of the data\n",
        "df.describe()\n",
        "# c. Calculate the percentage of days on which each stock closed higher than it opened. \n",
        "# df['up']=np.where(df['Close']>df['Open'],1,0)\n",
        "\n",
        "# d. Create a plot of the closing prices of apple and microsoft over time for all of January (include labels)\n",
        "plt.plot(df['Close'])\n",
        "plt.xlabel('Date')\n",
        "plt.ylabel('Closing Price')\n",
        "plt.title('Closing Prices in January')\n",
        "# e. Write a 3-4 sentence summary of your results.  \n",
        "\n"
      ],
      "execution_count": 50,
      "outputs": [
        {
          "output_type": "stream",
          "text": [
            "No handles with labels found to put in legend.\n"
          ],
          "name": "stderr"
        },
        {
          "output_type": "execute_result",
          "data": {
            "text/plain": [
              "Text(0.5, 1.0, 'Closing Prices in January')"
            ]
          },
          "metadata": {
            "tags": []
          },
          "execution_count": 50
        },
        {
          "output_type": "display_data",
          "data": {
            "image/png": "[encoded data removed]",
            "text/plain": [
              "<Figure size 432x288 with 1 Axes>"
            ]
          },
          "metadata": {
            "tags": []
          }
        }
      ]
    }
  ]
}